{
  "nbformat": 4,
  "nbformat_minor": 0,
  "metadata": {
    "colab": {
      "name": "PROYECTO.ipynb",
      "provenance": [],
      "collapsed_sections": [],
      "include_colab_link": true
    },
    "kernelspec": {
      "name": "python3",
      "display_name": "Python 3"
    },
    "language_info": {
      "name": "python"
    }
  },
  "cells": [
    {
      "cell_type": "markdown",
      "metadata": {
        "id": "view-in-github",
        "colab_type": "text"
      },
      "source": [
        "<a href=\"https://colab.research.google.com/github/maria-clavijo/PROYECTO-DE-PROGRAMACION-ENTREGAS-2022-3/blob/main/PROYECTO.ipynb\" target=\"_parent\"><img src=\"https://colab.research.google.com/assets/colab-badge.svg\" alt=\"Open In Colab\"/></a>"
      ]
    },
    {
      "cell_type": "markdown",
      "source": [
        "# Proyecto Programación"
      ],
      "metadata": {
        "id": "kbY6slLUkUzL"
      }
    },
    {
      "cell_type": "markdown",
      "source": [
        "**1. Definir el contexto en el que se ha recolectado la información, donde se explique\n",
        "porqué ha escogido el sitio web y el contexto para la captura de datos.**"
      ],
      "metadata": {
        "id": "ToDEC3CzGm6w"
      }
    },
    {
      "cell_type": "markdown",
      "source": [
        "El contexto que se quiere abarcar y en el cual se recolecta información son los datos de la pandemia del virus Covid-19 durante su auge en 2020 y en el escenario anterior a esta con el fin de establecer un comparativo de las emisiones de CO2 durante los mismos periodos de tiempo en el mundo. Los sitios web que se escogieron son: \n",
        "\n",
        "Worldmeter que nos proporciona informacion y estadisticas mundiales en tiempo real sobre la pandemia del coronavirus tales como el total de casos, muertes, recuperados y pruebas del covid-19.\n",
        "\n",
        "https://www.worldometers.info/coronavirus/\n",
        "\n",
        "La organizacion mundial de la salud  (OMS) proporciona datos mundiales sobre el coronavirus que contiene el total de casos acumulados, muertes y dosis totales de vacunas.\n",
        "\n",
        "https://covid19.who.int/data \n",
        "\n",
        "El Banco Mundial de datos ofrece información respecto a las emisiones de CO2 en distintos países incluyendo a Colombia.\n",
        "\n",
        "https://datos.bancomundial.org/indicador/EN.ATM.CO2E.KT?end=2019&start=2019&view=map\n",
        "\n",
        "https://ourworldindata.org/co2-emissions\n",
        "\n"
      ],
      "metadata": {
        "id": "CYn17FCwlI1b"
      }
    },
    {
      "cell_type": "markdown",
      "source": [
        "**2. Definir un título para el proyecto.**\n",
        "\n",
        "\n",
        "\n",
        "\n",
        "Emisiones de CO2 atmósferico durante el auge de la pandemia y antes de esta.\n",
        "\n",
        "\n",
        "\n",
        "\n"
      ],
      "metadata": {
        "id": "k1qqcQY1lPPc"
      }
    },
    {
      "cell_type": "markdown",
      "source": [
        "**3. Antecedentes**"
      ],
      "metadata": {
        "id": "TaTWHQ9jmVkA"
      }
    },
    {
      "cell_type": "markdown",
      "source": [
        "-**CO2 EMISSIONS: A DYNAMIC\n",
        "STRUCTURAL ANALYSIS** \n",
        "\n",
        "Este articulo análiza el impacto del consumo de energía y el crecimiento económico sobre las emisiones de CO2 en todo el mundo presentando la evolución temporal de las emisiones de CO2 durante la pandemia Covid-19. Al igual que concluye que la reducción de las actividades humanas cotidianas por el confinamiento forzado afectó el uso global de la energía y contribuyó a la reducción de las emisiones de CO2 en este período.\n",
        "\n",
        "\n",
        "Referencias\n",
        "\n",
        "Sérgio Ceretta, P., & Aurélio Vieira, M. (2021). Co2 Emissions: A Dynamic Structural Analysis. Brazilian Journal of Management / Revista de Administração Da UFSM, 14, 949–969. https://doi.proxyuao.elogim.com/10.5902/1983465963884\n",
        "\n",
        "\n",
        "\n",
        "-**Episodios de pandemia, emisiones de CO 2 y temperaturas globales**\n",
        "\n",
        "Este artículo trata sobre la relación entre las emisiones de CO2 y las temperaturas globales a lo largo de los distintos episodios pandémicos que se han producido en los últimos 100 años. \n",
        "\n",
        "Referencias\n",
        "\n",
        "Monge, M., & Gil-Alana, L. A. (2022). Pandemic episodes, CO2 emissions and global temperatures. Theoretical and Applied Climatology, 1–9. https://doi.proxyuao.elogim.com/10.1007/s00704-022-03959-z"
      ],
      "metadata": {
        "id": "Po1vonx4mjhu"
      }
    },
    {
      "cell_type": "markdown",
      "source": [
        "**4. Responder: ¿Por qué es importante y qué pregunta/problema pretende responder de los datos que se extraerán?**\n",
        "\n",
        "¿Cómo en el periodo de tiempo que duro la pandemia ayudo a disminuir ciertas emisiones de dioxido de carbono (CO2)?, porque la mayoria de personas estaban confinadas por ende no utilizaban sus automoviles, los aviones tambien estuvieron sin servicio, las fabricas cerraron sus puertas y de esta manera se redujo la contaminación en diversos ecosistemas que exiten en el planeta.\n",
        "\n",
        "¿Cómo ayudo la pandemia a disminuir las emisiones de CO2 en distintos paises del mundo?:\n",
        "\n",
        "Colombia.\n",
        "EE.UU.\n",
        "Russia.\n",
        "RU.\n",
        "China.\n",
        "India.\n",
        "Japón.\n",
        "Irán.\n",
        "Corea del Sur.\n",
        "Indonesia.\n",
        "Arabia Saudita."
      ],
      "metadata": {
        "id": "NYOWOktlmj3e"
      }
    },
    {
      "cell_type": "markdown",
      "source": [
        ""
      ],
      "metadata": {
        "id": "JeHVrydXnKdS"
      }
    },
    {
      "cell_type": "markdown",
      "source": [
        "**5. Clasificar el tipo de problema en un campo de aplicación de análisis de datos**\n",
        "\n",
        "¿QUE OCURRIO? *Analisis descriptivo*\n",
        "\n",
        "\n",
        "\n",
        "Hemos optado por llevar a cabo un análisis descriptivo para establecer el impacto que tuvo la pandemia del Covid 19 en la emisión de dióxido de carbono (CO2) a nivel mundial, profundizando en algunos de los países más contaminantes tales como Estados Unidos, China, Japón, Unión Europea, Reino Unido, Irán, India y Corea del Sur, tomando como referencia el periodo de tiempo anterior a "
      ],
      "metadata": {
        "id": "dWx0Cthymq4e"
      }
    },
    {
      "cell_type": "markdown",
      "source": [
        "**6. Crear el repositorio en git y usar el read me del proyecto para presentar los ítems anteriores (usar git student). Crear el respectivo notebook para el proyecto.**"
      ],
      "metadata": {
        "id": "KfPmjEhomwj1"
      }
    }
  ]
}